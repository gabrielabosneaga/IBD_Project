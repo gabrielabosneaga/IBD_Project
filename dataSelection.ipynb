{
 "cells": [
  {
   "cell_type": "code",
   "execution_count": null,
   "metadata": {},
   "outputs": [],
   "source": [
    "import pandas as pd\n",
    "import matplotlib.pyplot as plt"
   ]
  },
  {
   "cell_type": "code",
   "execution_count": null,
   "metadata": {},
   "outputs": [],
   "source": [
    "def renameColumns(df):\n",
    "    return [col.split('-', 1)[1] if '-' in col else col for col in df.columns]\n",
    "\n",
    "def convertTime(df):\n",
    "    if df[\"Time\"].dtype == 'int64':\n",
    "        df[\"Time\"] = pd.to_datetime(df[\"Time\"], unit='ms')    \n",
    "    else:\n",
    "        df['Time'] = pd.to_datetime(df['Time'], format='%Y-%m-%d %H:%M:%S')\n",
    "    df.sort_values(by=['Time'], inplace=True)\n",
    "    return df"
   ]
  },
  {
   "cell_type": "code",
   "execution_count": null,
   "metadata": {},
   "outputs": [],
   "source": [
    "def readAndProcessCSV(filename):\n",
    "    df = pd.read_csv(filename)\n",
    "    df.columns = renameColumns(df)\n",
    "    df = convertTime(df)\n",
    "    return df"
   ]
  },
  {
   "cell_type": "code",
   "execution_count": null,
   "metadata": {},
   "outputs": [],
   "source": [
    "def isWeekend(dateObj):\n",
    "    return dateObj.weekday() in [5, 6]\n",
    "\n",
    "def isWeeekday(dateObj):\n",
    "    return not isWeekend(dateObj)\n",
    "\n",
    "#Depending on on the mask created, you can get the data from the weekend or the week\n",
    "def applyMask(df, mask):\n",
    "    dfWeekend = df[~mask]\n",
    "    dfWeekend = dfWeekend.reset_index(drop=True)\n",
    "    return dfWeekend\n",
    "\n",
    "def eliminateNightHours(df):\n",
    "    return df[(df['Time'].dt.hour >= 6) & (df['Time'].dt.hour <= 23)]\n",
    "\n",
    "def getDataOneHour(hour, df):\n",
    "    return df[(df['Time'].dt.hour > hour) & (df['Time'].dt.hour <= hour + 1)]\n",
    "\n",
    "def getDataOneDay(date, df):\n",
    "    return df[(df['Time'].dt.day == date.day) & (df['Time'].dt.month == date.month) & (df['Time'].dt.year == date.year)]\n",
    "\n",
    "def getDataThreeDays(date, df):\n",
    "    return df[(df['Time'].dt.day >= date.day) & (df['Time'].dt.day <= date.day + 2) & (df['Time'].dt.month == date.month) & (df['Time'].dt.year == date.year)]\n",
    "\n",
    "def eliminateDayHours(df):\n",
    "    return df[(df['Time'].dt.hour > 6) & (df['Time'].dt.hour < 23)]"
   ]
  },
  {
   "cell_type": "code",
   "execution_count": null,
   "metadata": {},
   "outputs": [],
   "source": [
    "dfOctNov = readAndProcessCSV(\"sensorData/08_45_18.csv\")\n",
    "fileNames = [\"08_46_27\", \"08_47_03\", \"08_48_14\", \"08_48_51\", \"08_49_32\", \"08_50_13\", \"08_50_46\"]\n",
    "for fileName in fileNames:\n",
    "    df = readAndProcessCSV(\"sensorData/\" + fileName + \".csv\")\n",
    "    dfOctNov = pd.concat([dfOctNov, df])\n",
    "\n",
    "#Time range of dfOctNov is 2023-10-01 to 2023-11-25\n",
    "#dfOctNov[\"Time\"].dt.date"
   ]
  },
  {
   "cell_type": "code",
   "execution_count": null,
   "metadata": {},
   "outputs": [],
   "source": [
    "weekendMask = dfOctNov['Time'].apply(isWeekend)\n",
    "dfFinal = applyMask(dfOctNov, weekendMask)\n",
    "dfFinal = eliminateNightHours(dfFinal)\n",
    "dfFinal = dfFinal.reset_index(drop=True)"
   ]
  },
  {
   "cell_type": "code",
   "execution_count": null,
   "metadata": {},
   "outputs": [],
   "source": [
    "def getTemperatureMean(df, sensorName, measurementName):\n",
    "    columnName = sensorName + '.' + measurementName\n",
    "    dfCopy = getDataThreeDays(pd.to_datetime('2023-10-16'), df)\n",
    "    return dfCopy[columnName].mean()\n",
    "\n",
    "def getTemperatureStd(df, sensorName, measurementName):\n",
    "    columnName = sensorName + '.' + measurementName\n",
    "    dfCopy = getDataThreeDays(pd.to_datetime('2023-10-16'), df)\n",
    "    return dfCopy[columnName].std()\n",
    "\n",
    "temperatureMean = {}\n",
    "for i in range(1, 10):\n",
    "    sensorName = 'eye0' + str(i)\n",
    "    temperatureMean.update({sensorName: getTemperatureMean(dfFinal, sensorName, 'temperature')})\n",
    "temperatureMean.update({'eye11': getTemperatureMean(dfFinal, 'eye11', 'temperature')})\n",
    "temperatureMean.update({'eye10': getTemperatureMean(dfFinal, 'eye10', 'temperature')})\n",
    "\n",
    "for i in range(1, 7):\n",
    "    sensorName = 'gas0' + str(i)\n",
    "    temperatureMean.update({sensorName: getTemperatureMean(dfFinal, sensorName, 'temperature')})\n",
    "\n",
    "for i in range(1, 6):\n",
    "    sensorName = 'voc0' + str(i)\n",
    "    temperatureMean.update({sensorName: getTemperatureMean(dfFinal, sensorName, 'temperature')})\n",
    "\n",
    "temperatureMean = dict(sorted(temperatureMean.items(), key=lambda item: item[1]))\n",
    "\n",
    "# for sensorName in temperatureMean:  \n",
    "#     print(sensorName, temperatureMean[sensorName])  "
   ]
  },
  {
   "cell_type": "code",
   "execution_count": null,
   "metadata": {},
   "outputs": [],
   "source": [
    "temperatureStd = {}\n",
    "for i in range(1, 10):\n",
    "    sensorName = 'eye0' + str(i)\n",
    "    temperatureStd.update({sensorName: getTemperatureStd(dfFinal, sensorName, 'temperature')})\n",
    "temperatureStd.update({'eye11': getTemperatureStd(dfFinal, 'eye11', 'temperature')})\n",
    "temperatureStd.update({'eye10': getTemperatureStd(dfFinal, 'eye10', 'temperature')})\n",
    "\n",
    "for i in range(1, 7):\n",
    "    sensorName = 'gas0' + str(i)\n",
    "    temperatureStd.update({sensorName: getTemperatureStd(dfFinal, sensorName, 'temperature')})\n",
    "\n",
    "for i in range(1, 6):\n",
    "    sensorName = 'voc0' + str(i)\n",
    "    temperatureStd.update({sensorName: getTemperatureStd(dfFinal, sensorName, 'temperature')})\n",
    "    \n",
    "temperatureStd = dict(sorted(temperatureStd.items(), key=lambda x: x[1]))\n",
    "\n",
    "# for sensorName in temperatureStd:  \n",
    "#     print(sensorName, temperatureStd[sensorName])  "
   ]
  },
  {
   "cell_type": "code",
   "execution_count": null,
   "metadata": {},
   "outputs": [],
   "source": []
  }
 ],
 "metadata": {
  "kernelspec": {
   "display_name": "Python 3 (ipykernel)",
   "language": "python",
   "name": "python3"
  },
  "language_info": {
   "codemirror_mode": {
    "name": "ipython",
    "version": 3
   },
   "file_extension": ".py",
   "mimetype": "text/x-python",
   "name": "python",
   "nbconvert_exporter": "python",
   "pygments_lexer": "ipython3",
   "version": "3.11.5"
  }
 },
 "nbformat": 4,
 "nbformat_minor": 2
}
