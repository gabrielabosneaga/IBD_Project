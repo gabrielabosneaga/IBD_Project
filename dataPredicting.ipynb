{
 "cells": [
  {
   "cell_type": "markdown",
   "id": "c3257747",
   "metadata": {},
   "source": [
    "## Machine learning\n",
    "\n",
    "* Acquiring normalized data\n",
    "* Splitting data for train and test\n",
    "* Compute the neural network model\n",
    "* Train the model\n",
    "* Evaluate the model\n",
    "* Predict with the model"
   ]
  },
  {
   "cell_type": "code",
   "execution_count": null,
   "id": "b65d92dd",
   "metadata": {},
   "outputs": [],
   "source": [
    "# Machine learning part\n",
    "# Awaiting access to normalized data to be able to apply the model over it\n",
    "# I will assume i will get the normalized data into a dataframe object called df\n",
    "\n",
    "df = pd.read_csv('normalizedData.csv')\n",
    "df.head()"
   ]
  },
  {
   "cell_type": "code",
   "execution_count": null,
   "id": "9c5adcf8",
   "metadata": {},
   "outputs": [],
   "source": [
    "#Splitting the data into training and testing data\n",
    "\n",
    "x_train, x_test, y_train, y_test = train_test_split(x, y, test_size=0.2)"
   ]
  },
  {
   "cell_type": "code",
   "execution_count": null,
   "id": "ca161a25",
   "metadata": {},
   "outputs": [],
   "source": [
    "# Data will consist of 5 features, split diffrently for each sensor type, having between\n",
    "# temperature, humidity, light, co2, occupancy and motion\n",
    "input_dim = 5 # number of columns to be used as input\n",
    "output_dim = 1 # number of columns\n",
    "\n",
    "# Creating the model with a neural network with 10 hidden layers\n",
    "model = Sequential()\n",
    "\n",
    "# Adding the layers\n",
    "model.add(Dense(64, input_dim=input_dim, activation='relu'))\n",
    "model.add(Dense(32, input_dim=input_dim, activation='relu'))\n",
    "model.add(Dropout(0.5))\n",
    "model.add(Dense(16, activation='relu'))\n",
    "model.add(Dropout(0.5))\n",
    "model.add(Dense(output_dim, activation='sigmoid'))\n",
    "\n",
    "# Compiling the model\n",
    "# The model will use binary crossentropy as loss function, adam as optimizer and accuracy as metric\n",
    "# The model will be trained for 100 epochs\n",
    "# The model will have 2 classes, 0 and 1, 0 being \"Area is not polluted\" and 1 being \"Area is polluted!\"\n",
    "model.compile(loss='binary_crossentropy', optimizer='adam', metrics=['accuracy'])"
   ]
  },
  {
   "cell_type": "code",
   "execution_count": null,
   "id": "5e6a0505",
   "metadata": {},
   "outputs": [],
   "source": [
    "# Training the model\n",
    "model.fit(x_train, y_train, epochs=100, verbose=0)"
   ]
  },
  {
   "cell_type": "code",
   "execution_count": null,
   "id": "c70554ea",
   "metadata": {},
   "outputs": [],
   "source": [
    "# Evaluating the model\n",
    "loss, accuracy = model.evaluate(x_test, y_test, verbose=0)\n",
    "print('Accuracy: %f' % (accuracy*100))"
   ]
  },
  {
   "cell_type": "code",
   "execution_count": null,
   "id": "e72fba86",
   "metadata": {},
   "outputs": [],
   "source": [
    "# Making predictions\n",
    "predictions = model.predict_classes(x_test)\n",
    "for i in range(5):\n",
    "    print('%s => %d (expected %d)' % (x_test[i].tolist(), predictions[i], y_test[i]))"
   ]
  },
  {
   "cell_type": "code",
   "execution_count": null,
   "id": "bcc39686",
   "metadata": {},
   "outputs": [],
   "source": [
    "# Saving the model\n",
    "model.save('model.h5')\n",
    "\n",
    "# Loading the model\n",
    "model = load_model('model.h5')"
   ]
  }
 ],
 "metadata": {
  "kernelspec": {
   "display_name": "Python 3 (ipykernel)",
   "language": "python",
   "name": "python3"
  },
  "language_info": {
   "codemirror_mode": {
    "name": "ipython",
    "version": 3
   },
   "file_extension": ".py",
   "mimetype": "text/x-python",
   "name": "python",
   "nbconvert_exporter": "python",
   "pygments_lexer": "ipython3",
   "version": "3.11.5"
  }
 },
 "nbformat": 4,
 "nbformat_minor": 5
}
