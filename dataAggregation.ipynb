{
 "cells": [
  {
   "cell_type": "code",
   "execution_count": 13,
   "metadata": {},
   "outputs": [],
   "source": [
    "import pandas as pd\n",
    "import matplotlib.pyplot as plt"
   ]
  },
  {
   "cell_type": "code",
   "execution_count": 14,
   "metadata": {},
   "outputs": [],
   "source": [
    "def renameColumns(df):\n",
    "    return [col.split('-', 1)[1] if '-' in col else col for col in df.columns]\n",
    "\n",
    "def convertTime(df):\n",
    "    if df[\"Time\"].dtype == 'int64':\n",
    "        df[\"Time\"] = pd.to_datetime(df[\"Time\"], unit='ms')    \n",
    "    else:\n",
    "        df['Time'] = pd.to_datetime(df['Time'], format='%Y-%m-%d %H:%M:%S')\n",
    "    df.sort_values(by=['Time'], inplace=True)\n",
    "    return df"
   ]
  },
  {
   "cell_type": "code",
   "execution_count": 15,
   "metadata": {},
   "outputs": [],
   "source": [
    "def readAndProcessCSV(filename):\n",
    "    df = pd.read_csv(filename)\n",
    "    df.columns = renameColumns(df)\n",
    "    df = convertTime(df)\n",
    "    return df"
   ]
  },
  {
   "cell_type": "code",
   "execution_count": 16,
   "metadata": {},
   "outputs": [],
   "source": [
    "def applyMask(df, mask):\n",
    "    dfWeekend = df[~mask]\n",
    "    dfWeekend = dfWeekend.reset_index(drop=True)\n",
    "    return dfWeekend\n",
    "\n",
    "def eliminateNightHours(df):\n",
    "    return df[(df['Time'].dt.hour >= 6) & (df['Time'].dt.hour <= 23)]\n",
    "\n",
    "def isWeekend(dateObj):\n",
    "    return dateObj.weekday() in [5, 6]\n",
    "\n",
    "def isWeeekday(dateObj):\n",
    "    return not isWeekend(dateObj)"
   ]
  },
  {
   "cell_type": "code",
   "execution_count": 17,
   "metadata": {},
   "outputs": [],
   "source": [
    "def makeDfSensorSingle(df, sensorName):\n",
    "    sensorColumns = ['Time'] + [col for col in df.columns if sensorName in col] \n",
    "    dfSensor = df[sensorColumns]\n",
    "    dfSensor = dfSensor.dropna(axis=1, how='all')\n",
    "    dfSensor = dfSensor.dropna().reset_index(drop=True)\n",
    "    return dfSensor\n",
    "\n",
    "#drop all columns that contain the word 'vdd'\n",
    "def dropVddColumns(df):\n",
    "    return df[df.columns.drop(list(df.filter(regex='vdd')))]"
   ]
  },
  {
   "cell_type": "code",
   "execution_count": 18,
   "metadata": {},
   "outputs": [],
   "source": [
    "#DF that has all the data from October and November\n",
    "dfOctNov = readAndProcessCSV(\"sensorData/08_45_18.csv\")\n",
    "fileNames = [\"08_46_27\", \"08_47_03\", \"08_48_14\", \"08_48_51\", \"08_49_32\", \"08_50_13\", \"08_50_46\"]\n",
    "for fileName in fileNames:\n",
    "    df = readAndProcessCSV(\"sensorData/\" + fileName + \".csv\")\n",
    "    df.replace('undefined', pd.NA, inplace=True)\n",
    "    dfOctNov = pd.concat([dfOctNov, df])\n",
    "\n",
    "#Time range of dfOctNov is 2023-10-01 to 2023-11-25\n",
    "#dfOctNov[\"Time\"].dt.date"
   ]
  },
  {
   "cell_type": "code",
   "execution_count": 19,
   "metadata": {},
   "outputs": [],
   "source": [
    "weekendMask = dfOctNov['Time'].apply(isWeekend)\n",
    "dfFinal = applyMask(dfOctNov, weekendMask)\n",
    "dfFinal = eliminateNightHours(dfFinal)\n",
    "dfFinal = dropVddColumns(dfFinal)\n",
    "dfFinal = dfFinal.reset_index(drop=True)\n",
    "# dfFinal.head()"
   ]
  },
  {
   "cell_type": "code",
   "execution_count": 20,
   "metadata": {},
   "outputs": [],
   "source": [
    "selectedSensors = ['eye03', 'eye04', 'eye05', 'eye09', 'eye11', 'gas01', 'gas02', 'gas03', 'gas04', 'gas05', 'gas06', 'voc01', 'voc02', 'voc03', 'voc04', 'voc05']\n",
    "dfConcat = makeDfSensorSingle(dfFinal, 'eye02')\n",
    "for i in selectedSensors:\n",
    "    sensorDf = makeDfSensorSingle(dfFinal, i)\n",
    "    dfConcat = pd.concat([dfConcat, sensorDf], axis=1)\n",
    "\n",
    "dfConcat = dfConcat.drop('Time', axis=1)\n",
    "dfConcat = dfConcat.dropna().reset_index(drop=True)\n",
    "# dfConcat.head"
   ]
  },
  {
   "cell_type": "code",
   "execution_count": 21,
   "metadata": {
    "scrolled": false
   },
   "outputs": [
    {
     "data": {
      "text/plain": [
       "Index(['eye02.occupancy', 'eye03.occupancy', 'eye04.occupancy',\n",
       "       'eye05.occupancy', 'eye09.occupancy', 'eye11.occupancy',\n",
       "       'eye.humidity.mean', 'eye.humidity.std', 'eye.humidity.median',\n",
       "       'eye.humidity.min', 'eye.humidity.max', 'eye.humidity.iqr',\n",
       "       'eye.light.mean', 'eye.light.std', 'eye.light.median', 'eye.light.min',\n",
       "       'eye.light.max', 'eye.light.iqr', 'eye.motion.mean', 'eye.motion.std',\n",
       "       'eye.motion.median', 'eye.motion.min', 'eye.motion.max',\n",
       "       'eye.motion.iqr', 'eye.temperature.mean', 'eye.temperature.std',\n",
       "       'eye.temperature.median', 'eye.temperature.min', 'eye.temperature.max',\n",
       "       'eye.temperature.iqr', 'gas.humidity.mean', 'gas.humidity.std',\n",
       "       'gas.humidity.median', 'gas.humidity.min', 'gas.humidity.max',\n",
       "       'gas.humidity.iqr', 'gas.light.mean', 'gas.light.std',\n",
       "       'gas.light.median', 'gas.light.min', 'gas.light.max', 'gas.light.iqr',\n",
       "       'gas.motion.mean', 'gas.motion.std', 'gas.motion.median',\n",
       "       'gas.motion.min', 'gas.motion.max', 'gas.motion.iqr',\n",
       "       'gas.temperature.mean', 'gas.temperature.std', 'gas.temperature.median',\n",
       "       'gas.temperature.min', 'gas.temperature.max', 'gas.temperature.iqr',\n",
       "       'voc.humidity.mean', 'voc.humidity.std', 'voc.humidity.median',\n",
       "       'voc.humidity.min', 'voc.humidity.max', 'voc.humidity.iqr',\n",
       "       'voc.light.mean', 'voc.light.std', 'voc.light.median', 'voc.light.min',\n",
       "       'voc.light.max', 'voc.light.iqr', 'voc.motion.mean', 'voc.motion.std',\n",
       "       'voc.motion.median', 'voc.motion.min', 'voc.motion.max',\n",
       "       'voc.motion.iqr', 'voc.temperature.mean', 'voc.temperature.std',\n",
       "       'voc.temperature.median', 'voc.temperature.min', 'voc.temperature.max',\n",
       "       'voc.temperature.iqr', 'gas.co2.mean', 'gas.co2.std', 'gas.co2.median',\n",
       "       'gas.co2.max', 'gas.co2.min', 'gas.co2.iqr', 'voc.tvoc.mean',\n",
       "       'voc.tvoc.std', 'voc.tvoc.median', 'voc.tvoc.max', 'voc.tvoc.min',\n",
       "       'voc.tvoc.iqr'],\n",
       "      dtype='object')"
      ]
     },
     "execution_count": 21,
     "metadata": {},
     "output_type": "execute_result"
    }
   ],
   "source": [
    "def toNumeric(listOfColumns):\n",
    "    for i in listOfColumns:\n",
    "        dfConcat[i] = pd.to_numeric(dfConcat[i])\n",
    "\n",
    "def dropColumns(listOfColumns, df):\n",
    "    df.drop(listOfColumns, axis=1, inplace=True)\n",
    "\n",
    "def computeMeanColumn(df, list, columnName):\n",
    "    df[columnName] = df[list].mean(axis=1)\n",
    "    df[columnName] = df[columnName].round(2)\n",
    "\n",
    "def computeStdColumn(df, list, columnName):\n",
    "    df[columnName] = df[list].std(axis=1)\n",
    "    df[columnName] = df[columnName].round(2)\n",
    "\n",
    "def computeMedianColumn(df, list, columnName):\n",
    "    df[columnName] = df[list].median(axis=1)\n",
    "    df[columnName] = df[columnName].round(2)\n",
    "\n",
    "def computeMaxColumn(df, list, columnName):\n",
    "    df[columnName] = df[list].max(axis=1)\n",
    "    df[columnName] = df[columnName].round(2)\n",
    "\n",
    "def computeMinColumn(df, list, columnName):\n",
    "    df[columnName] = df[list].min(axis=1)\n",
    "    df[columnName] = df[columnName].round(2)\n",
    "\n",
    "def computeInterquartileRangeColumn(df, list, columnName):\n",
    "    df[columnName] = df[list].quantile(0.75, axis=1) - df[list].quantile(0.25, axis=1)\n",
    "    df[columnName] = df[columnName].round(2)\n",
    "def processStatisticalColumns(selectedSensors, measurementName):\n",
    "    columnsList = []\n",
    "    for i in selectedSensors:\n",
    "        column = i + '.' + measurementName\n",
    "        columnsList.append(column)\n",
    "    toNumeric(columnsList)\n",
    "    return columnsList\n",
    "    \n",
    "def applyStatisticalMethod(df, selectedSensors, measurementName, statisticalMethod):\n",
    "    columnsList = processStatisticalColumns(selectedSensors, measurementName)\n",
    "    df[measurementName + '.' + statisticalMethod] = df[columnsList].agg(statisticalMethod, axis=1)\n",
    "    dropColumns(columnsList, df)\n",
    "\n",
    "eyeSelectedSensors = ['eye02', 'eye03', 'eye04', 'eye05', 'eye09', 'eye11']\n",
    "gasSelectedSensors = ['gas01', 'gas02', 'gas03', 'gas04', 'gas05', 'gas06']\n",
    "vocSelectedSensors = ['voc01', 'voc02', 'voc03', 'voc04', 'voc05']\n",
    "\n",
    "sensorTypes = {\n",
    "    'eye': eyeSelectedSensors,\n",
    "    'gas': gasSelectedSensors,\n",
    "    'voc': vocSelectedSensors\n",
    "}\n",
    "\n",
    "measurements = {\n",
    "    'humidity': ['mean', 'std', 'median', 'min', 'max', 'iqr'],\n",
    "    'light': ['mean', 'std', 'median', 'min', 'max', 'iqr'],\n",
    "    'motion': ['mean', 'std', 'median', 'min', 'max', 'iqr'],\n",
    "    'temperature': ['mean', 'std', 'median', 'min', 'max', 'iqr'],\n",
    "}\n",
    "\n",
    "for sensorType, sensors in sensorTypes.items():\n",
    "    for measurement, aggFuncs in measurements.items():\n",
    "        for aggFunc in aggFuncs:\n",
    "            columnName = f'{sensorType}.{measurement}.{aggFunc}'\n",
    "            computeMeanColumn(dfConcat, processStatisticalColumns(sensors, measurement), columnName)\n",
    "            computeStdColumn(dfConcat, processStatisticalColumns(sensors, measurement), columnName)\n",
    "            computeMedianColumn(dfConcat, processStatisticalColumns(sensors, measurement), columnName)\n",
    "            computeMaxColumn(dfConcat, processStatisticalColumns(sensors, measurement), columnName)\n",
    "            computeMinColumn(dfConcat, processStatisticalColumns(sensors, measurement), columnName)\n",
    "            computeInterquartileRangeColumn(dfConcat, processStatisticalColumns(sensors, measurement), columnName)\n",
    "        dropColumns(processStatisticalColumns(sensors, measurement), dfConcat)\n",
    "\n",
    "columnsListCO2 = processStatisticalColumns(gasSelectedSensors, 'co2')\n",
    "computeMeanColumn(dfConcat, columnsListCO2, 'gas.co2.mean')\n",
    "computeStdColumn(dfConcat, columnsListCO2, 'gas.co2.std')\n",
    "computeMedianColumn(dfConcat, columnsListCO2, 'gas.co2.median')\n",
    "computeMaxColumn(dfConcat, columnsListCO2, 'gas.co2.max')\n",
    "computeMinColumn(dfConcat, columnsListCO2, 'gas.co2.min')\n",
    "computeInterquartileRangeColumn(dfConcat, columnsListCO2, 'gas.co2.iqr')\n",
    "dropColumns(columnsListCO2, dfConcat)\n",
    "\n",
    "columnsListTVOC = processStatisticalColumns(vocSelectedSensors, 'tvoc')\n",
    "computeMeanColumn(dfConcat, columnsListTVOC, 'voc.tvoc.mean')\n",
    "computeStdColumn(dfConcat, columnsListTVOC, 'voc.tvoc.std')\n",
    "computeMedianColumn(dfConcat, columnsListTVOC, 'voc.tvoc.median')\n",
    "computeMaxColumn(dfConcat, columnsListTVOC, 'voc.tvoc.max')\n",
    "computeMinColumn(dfConcat, columnsListTVOC, 'voc.tvoc.min')\n",
    "computeInterquartileRangeColumn(dfConcat, columnsListTVOC, 'voc.tvoc.iqr')\n",
    "dropColumns(columnsListTVOC, dfConcat)\n",
    "\n",
    "dfConcat.columns\n"
   ]
  },
  {
   "cell_type": "code",
   "execution_count": 22,
   "metadata": {},
   "outputs": [],
   "source": [
    "dfConcat.to_csv('dataAggregated_file.csv', index=False)"
   ]
  },
  {
   "cell_type": "code",
   "execution_count": null,
   "metadata": {},
   "outputs": [],
   "source": []
  }
 ],
 "metadata": {
  "kernelspec": {
   "display_name": "Python 3 (ipykernel)",
   "language": "python",
   "name": "python3"
  },
  "language_info": {
   "codemirror_mode": {
    "name": "ipython",
    "version": 3
   },
   "file_extension": ".py",
   "mimetype": "text/x-python",
   "name": "python",
   "nbconvert_exporter": "python",
   "pygments_lexer": "ipython3",
   "version": "3.11.5"
  }
 },
 "nbformat": 4,
 "nbformat_minor": 2
}
